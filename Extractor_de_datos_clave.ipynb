{
  "cells": [
    {
      "cell_type": "code",
      "execution_count": 11,
      "metadata": {
        "colab": {
          "base_uri": "https://localhost:8080/"
        },
        "collapsed": true,
        "id": "nrsf2_T1i2Uf",
        "outputId": "1d9da0ca-6641-4e09-9519-4f8a895fc954"
      },
      "outputs": [],
      "source": [
        "!pip install langchain_groq #groq\n",
        "!pip install langchain_openai #open IA\n",
        "!pip install langchain_core #core"
      ]
    },
    {
      "cell_type": "code",
      "execution_count": 14,
      "metadata": {
        "collapsed": true,
        "id": "eJqaL-1ieZc8"
      },
      "outputs": [],
      "source": [
        "import os\n",
        "\n",
        "os.environ[\"GROQ_API_KEY\"] = \"\"\n",
        "os.environ[\"OPENAI_API_KEY\"] = \"\"\n",
        "\n",
        "\n",
        "from langchain_groq import ChatGroq\n",
        "from langchain_openai import ChatOpenAI\n",
        "\n",
        "from langchain_core.prompts import ChatPromptTemplate\n",
        "from langchain_core.output_parsers import JsonOutputParser\n",
        "import json\n",
        "\n",
        "# Initialize Groq LLM\n",
        "llm = ChatGroq(\n",
        "    model_name=\"deepseek-r1-distill-llama-70b\",\n",
        "    temperature=0.7\n",
        ")\n",
        "\n",
        "from dotenv import load_dotenv, find_dotenv\n",
        "_ = load_dotenv(find_dotenv())\n",
        "openai_api_key = os.environ[\"OPENAI_API_KEY\"]\n"
      ]
    },
    {
      "cell_type": "code",
      "execution_count": 13,
      "metadata": {
        "id": "fdRliUSWj1rz"
      },
      "outputs": [],
      "source": [
        "#llm = ChatOpenAI(model=\"gpt-3.5-turbo-0125\")"
      ]
    },
    {
      "cell_type": "markdown",
      "metadata": {
        "id": "wsmeNgqzkj1s"
      },
      "source": [
        "# Defina la información que quieras extraer\n",
        "\n",
        "\n",
        "*   Usaremos Pydanic para definir el esquema para extraer informacion personal\n",
        "*   Pydantic es una biblioteca de Python que se utiliza para la validación de datos. Ayuda a garantizar que los datos que recibe tu programa coincidan con el formato esperado y proporciona mensajes de error útiles cuando los datos no se ajustan a tus especificaciones. En esencia, Pydantic te permite asegurar que las estructuras de datos en Python cumplan con tipos y restricciones específicos, lo que hace que tu código sea más robusto y resistente a errores.\n",
        "*   Documenta los atributos y el propio esquema: Esta información se envía al LLM y se utiliza para mejorar la calidad de la extracción de información.\n",
        "* Al usar **Optional** en las sugerencias de tipo, indicas que una variable puede ser de un tipo específico o None.\n",
        "\n",
        "\n",
        "\n"
      ]
    },
    {
      "cell_type": "markdown",
      "metadata": {
        "id": "LZrMFFnHmTN4"
      },
      "source": [
        "# Definamos los datos que queremos extraer de una persona.\n",
        "A continuación, se recomienda escribir una cadena de documentación explicativa (comentarios) para que el modelo de chat comprenda qué datos queremos extraer."
      ]
    },
    {
      "cell_type": "code",
      "execution_count": 18,
      "metadata": {
        "id": "l9Hco7lumFXx"
      },
      "outputs": [],
      "source": [
        "from typing import Optional #Permite que un campo sea opcional\n",
        "\n",
        "from langchain_core.pydantic_v1 import BaseModel, Field\n",
        "\n",
        "class Person(BaseModel):\n",
        "    \"\"\"Information about a person.\"\"\"\n",
        "\n",
        "    # ^ Doc-string for the entity Person.\n",
        "    # Este doc-string es enviado al LLM como una descripcion del esquema persona\n",
        "    # y puede ayudar a mejorar los resultados de la extracción\n",
        "\n",
        "    # Tener en cuenta que:\n",
        "    # 1. cada campo es 'optional' -- esto permite que el modelo no lo extraiga\n",
        "    # 2. cada campo tiene una `description` que es utilizada por el LLM.\n",
        "    # una buena descripcion puede ayudar a mejorar los resultados de la extracción\n",
        "    name: Optional[str] = Field(\n",
        "        default=None, description=\"The name of the person\"\n",
        "    )\n",
        "    lastname: Optional[str] = Field(\n",
        "        default=None, description=\"The lastname of the person if known\"\n",
        "    )\n",
        "    country: Optional[str] = Field(\n",
        "        default=None, description=\"The country of the person if known\"\n",
        "    )"
      ]
    },
    {
      "cell_type": "markdown",
      "metadata": {
        "id": "TkGY_ygJsrYb"
      },
      "source": [
        "#Definimos el \"Extractor\"\n",
        "Nuestro extractor será una cadena con la plantilla de indicaciones y un modelo de chat con las instrucciones de extracción."
      ]
    },
    {
      "cell_type": "code",
      "execution_count": 16,
      "metadata": {
        "id": "jeVeLuOns19K"
      },
      "outputs": [],
      "source": [
        "# Define una solicitud personalizada para proporcionar instrucciones y contexto adicional.\n",
        "# 1) Puedes añadir ejemplos a la plantilla de solicitud para mejorar la calidad de la extracción.\n",
        "# 2) Puedes introducir parámetros adicionales para tener en cuenta el contexto (por ejemplo, incluir metadatos sobre el documento del que se extrajo el texto).\n",
        "\n",
        "\n",
        "prompt = ChatPromptTemplate.from_messages(\n",
        "    [\n",
        "        (\n",
        "            \"system\",\n",
        "            \"You are an expert extraction algorithm. \"\n",
        "            \"Only extract relevant information from the text. \"\n",
        "            \"If you do not know the value of an attribute asked to extract, \"\n",
        "            \"return null for the attribute's value.\",\n",
        "        ),\n",
        "        (\"human\", \"{text}\"),\n",
        "    ]\n",
        ")\n"
      ]
    },
    {
      "cell_type": "markdown",
      "metadata": {
        "id": "PnWOtxh4vyCB"
      },
      "source": [
        "Necesitamos usar un modelo que admita la llamada a funciones/herramientas.\n",
        "\n",
        "Usaremos .with_structured_output() para agregar las instrucciones de extracción a nuestro modelo de chat."
      ]
    },
    {
      "cell_type": "code",
      "execution_count": 19,
      "metadata": {
        "id": "7L40bkuvwFXx"
      },
      "outputs": [],
      "source": [
        "chain = prompt | llm.with_structured_output(schema=Person)\n",
        "# Descripcion de la chain - el prompt se lo pasamos al LLM, pero este chat model\n",
        "# va a utilizar un esquema definido por la clase persona"
      ]
    },
    {
      "cell_type": "markdown",
      "metadata": {
        "id": "oGd0sxVWx0dX"
      },
      "source": [
        "# Prueba"
      ]
    },
    {
      "cell_type": "code",
      "execution_count": 20,
      "metadata": {
        "colab": {
          "base_uri": "https://localhost:8080/"
        },
        "id": "b7Gzg3rDx1gM",
        "outputId": "89f9e86c-a07d-4726-9938-7561e4e4199c"
      },
      "outputs": [
        {
          "data": {
            "text/plain": [
              "Person(name='Sarah Johnson', lastname='Johnson', country='USA')"
            ]
          },
          "execution_count": 20,
          "metadata": {},
          "output_type": "execute_result"
        }
      ],
      "source": [
        "comment = \"I absolutely love this product! It's been a game-changer for my daily routine. The quality is top-notch and the customer service is outstanding. I've recommended it to all my friends and family. - Sarah Johnson, USA\"\n",
        "\n",
        "chain.invoke({\"text\": comment})"
      ]
    },
    {
      "cell_type": "markdown",
      "metadata": {
        "id": "Nl7EqFzKzmfB"
      },
      "source": [
        "Notemos que solamente podemos encontrar datos de una sola entidad, en nuestro caso una sola persona"
      ]
    },
    {
      "cell_type": "markdown",
      "metadata": {
        "id": "_LWiFPMt1wxs"
      },
      "source": [
        "Tenga en cuenta que esta capacidad de extracción es generativa, lo que significa que nuestro modelo puede realizar diversas tareas más allá de lo esperado. Por ejemplo, el modelo podría inferir el género de un usuario a partir de su nombre, incluso si esta información no se proporciona explícitamente."
      ]
    },
    {
      "cell_type": "markdown",
      "metadata": {
        "id": "unqRVURC1KOq"
      },
      "source": [
        "# Extracción de una lista de entidades en lugar de una sola entidad"
      ]
    },
    {
      "cell_type": "markdown",
      "metadata": {
        "id": "rrBozMpi2SGq"
      },
      "source": [
        "En proyectos reales, probablemente trabajará con un texto extenso que incluya más de una reseña de usuario. Podemos extraer los datos clave de varios usuarios anidando modelos de Pydantic (**nesting Pydantic models**).\n",
        "\n",
        "Observe cómo la definición del modelo de datos incluye el modelo Persona. Esto se denomina técnicamente \"nesting\" models. (\"anidar modelos\")"
      ]
    },
    {
      "cell_type": "code",
      "execution_count": 28,
      "metadata": {
        "id": "6uOvuaVP1NGg"
      },
      "outputs": [],
      "source": [
        "from typing import List\n",
        "\n",
        "class Data(BaseModel):\n",
        "    \"\"\"Extracted data about people.\"\"\"\n",
        "\n",
        "    # Creates a model so that we can extract multiple entities.\n",
        "    people: List[Person]\n",
        "\n",
        "chain = prompt | llm.with_structured_output(schema=Data) #Importante reescribir nuevamente la chain con la nueva estructura\n"
      ]
    },
    {
      "cell_type": "markdown",
      "metadata": {
        "id": "_vMLPNb_3IRP"
      },
      "source": [
        "Vea cómo ahora estamos usando el modelo de datos con el llm:"
      ]
    },
    {
      "cell_type": "code",
      "execution_count": 29,
      "metadata": {
        "colab": {
          "base_uri": "https://localhost:8080/"
        },
        "id": "1bMgMCMQ3HSo",
        "outputId": "36c3a95a-8a22-4ee7-d564-6840b3301651"
      },
      "outputs": [
        {
          "data": {
            "text/plain": [
              "Data(people=[Person(name='Alice Johnson', lastname=None, country='Canada'), Person(name='Bob Smith', lastname=None, country='USA')])"
            ]
          },
          "execution_count": 29,
          "metadata": {},
          "output_type": "execute_result"
        }
      ],
      "source": [
        "# Example input text that mentions multiple people\n",
        "text_input = \"\"\"\n",
        "Alice Johnson from Canada recently reviewed a book she loved. Meanwhile, Bob Smith from the USA shared his insights on the same book in a different review. Both reviews were very insightful.\n",
        "\"\"\"\n",
        "\n",
        "# Invoke the processing chain on the text\n",
        "response = chain.invoke({\"text\": text_input})\n",
        "\n",
        "# Output the extracted data\n",
        "response"
      ]
    }
  ],
  "metadata": {
    "colab": {
      "gpuType": "T4",
      "name": "Welcome To Colab",
      "provenance": [],
      "toc_visible": true
    },
    "kernelspec": {
      "display_name": "Python 3",
      "name": "python3"
    }
  },
  "nbformat": 4,
  "nbformat_minor": 0
}
